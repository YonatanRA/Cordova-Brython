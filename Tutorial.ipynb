{
 "cells": [
  {
   "cell_type": "markdown",
   "metadata": {},
   "source": [
    "# Apache Cordova y Brython \n",
    "\n",
    "Creando aplicaciones hibridas con python."
   ]
  },
  {
   "cell_type": "markdown",
   "metadata": {},
   "source": [
    "## Instalacion entorno de desarrollo"
   ]
  },
  {
   "cell_type": "markdown",
   "metadata": {},
   "source": [
    "**1 - Instalar Java Development Kit 8 (JDK8)**"
   ]
  },
  {
   "cell_type": "raw",
   "metadata": {},
   "source": [
    "sudo add-apt-repository ppa:openjdk-r/ppa\n",
    "sudo apt update\n",
    "sudo apt install openjdk-8-jdk"
   ]
  },
  {
   "cell_type": "markdown",
   "metadata": {},
   "source": [
    "Abre el archivo ~/.bashrc..."
   ]
  },
  {
   "cell_type": "raw",
   "metadata": {},
   "source": [
    "sudo gedit .bashrc"
   ]
  },
  {
   "cell_type": "markdown",
   "metadata": {},
   "source": [
    "...y añade al final del codigo lo siguiente:"
   ]
  },
  {
   "cell_type": "raw",
   "metadata": {},
   "source": [
    "export JAVA_HOME=/usr/lib/jvm/java-8-openjdk-amd64\n",
    "export PATH=$PATH:$JAVA_HOME/bin"
   ]
  },
  {
   "cell_type": "markdown",
   "metadata": {},
   "source": [
    "Guarda los cambios en gedit y ejecuta lo siguiente en terminal para aplicar los cambios:"
   ]
  },
  {
   "cell_type": "raw",
   "metadata": {},
   "source": [
    "source ~/.bashrc"
   ]
  },
  {
   "cell_type": "markdown",
   "metadata": {},
   "source": [
    "Si usas zsh, para aplicar los cambios es:"
   ]
  },
  {
   "cell_type": "raw",
   "metadata": {},
   "source": [
    "source ~/.zshrc"
   ]
  },
  {
   "cell_type": "markdown",
   "metadata": {},
   "source": [
    "**2 - Instalar Android Studio, Gradle y el SDK Platform 28**"
   ]
  },
  {
   "cell_type": "markdown",
   "metadata": {},
   "source": [
    "***Android Studio***"
   ]
  },
  {
   "cell_type": "raw",
   "metadata": {},
   "source": [
    "sudo apt install snapd\n",
    "sudo snap install android-studio --classic"
   ]
  },
  {
   "cell_type": "markdown",
   "metadata": {},
   "source": [
    "Abre el archivo ~/.bashrc..."
   ]
  },
  {
   "cell_type": "raw",
   "metadata": {},
   "source": [
    "sudo gedit .bashrc"
   ]
  },
  {
   "cell_type": "markdown",
   "metadata": {},
   "source": [
    "...y añade al final del codigo lo siguiente:"
   ]
  },
  {
   "cell_type": "raw",
   "metadata": {},
   "source": [
    "export ANDROID_HOME=$HOME/Android/Sdk\n",
    "export ANDROID_SDK_ROOT=$HOME/Android/Sdk\n",
    "export PATH=$PATH:$ANDROID_HOME/tools\n",
    "export PATH=$PATH:$ANDROID_HOME/platform-tools"
   ]
  },
  {
   "cell_type": "markdown",
   "metadata": {},
   "source": [
    "Guarda los cambios en gedit y ejecuta lo siguiente en terminal para aplicar los cambios:"
   ]
  },
  {
   "cell_type": "raw",
   "metadata": {},
   "source": [
    "source ~/.bashrc"
   ]
  },
  {
   "cell_type": "markdown",
   "metadata": {},
   "source": [
    "***Gradle***"
   ]
  },
  {
   "cell_type": "raw",
   "metadata": {},
   "source": [
    "sudo apt install gradle"
   ]
  },
  {
   "cell_type": "markdown",
   "metadata": {},
   "source": [
    "***SDK Platform 28***"
   ]
  },
  {
   "cell_type": "markdown",
   "metadata": {},
   "source": [
    "Abre Android Studio ejecutando `android-studio`, ve a configuración (esquina inferior derecha) y abre el SDK Manager. Instala el SDK Platform 28."
   ]
  },
  {
   "cell_type": "markdown",
   "metadata": {},
   "source": [
    "**3 - Instalar NodeJS y npm**"
   ]
  },
  {
   "cell_type": "markdown",
   "metadata": {},
   "source": [
    "***NodeJS***"
   ]
  },
  {
   "cell_type": "raw",
   "metadata": {},
   "source": [
    "sudo apt install python-software-properties\n",
    "sudo apt install curl\n",
    "curl -sL https://deb.nodesource.com/setup_12.x | sudo -E bash -\n",
    "sudo apt install nodejs"
   ]
  },
  {
   "cell_type": "markdown",
   "metadata": {},
   "source": [
    "**npm**"
   ]
  },
  {
   "cell_type": "raw",
   "metadata": {},
   "source": [
    "sudo apt install npm"
   ]
  },
  {
   "cell_type": "markdown",
   "metadata": {},
   "source": [
    "**4 - Instalar Cordova**"
   ]
  },
  {
   "cell_type": "raw",
   "metadata": {},
   "source": [
    "sudo npm install -g cordova\n",
    "sudo chown -R $USER:$(id -gn $USER) $HOME/.config"
   ]
  },
  {
   "cell_type": "markdown",
   "metadata": {},
   "source": [
    "**5 - Instalar Brython**"
   ]
  },
  {
   "cell_type": "raw",
   "metadata": {},
   "source": [
    "python3 -m pip install brython"
   ]
  },
  {
   "cell_type": "markdown",
   "metadata": {},
   "source": [
    "## Crear una aplicacion"
   ]
  },
  {
   "cell_type": "code",
   "execution_count": null,
   "metadata": {},
   "outputs": [],
   "source": []
  },
  {
   "cell_type": "code",
   "execution_count": null,
   "metadata": {},
   "outputs": [],
   "source": []
  },
  {
   "cell_type": "code",
   "execution_count": null,
   "metadata": {},
   "outputs": [],
   "source": []
  },
  {
   "cell_type": "code",
   "execution_count": null,
   "metadata": {},
   "outputs": [],
   "source": []
  },
  {
   "cell_type": "code",
   "execution_count": null,
   "metadata": {},
   "outputs": [],
   "source": []
  }
 ],
 "metadata": {
  "kernelspec": {
   "display_name": "Python 3",
   "language": "python",
   "name": "python3"
  },
  "language_info": {
   "codemirror_mode": {
    "name": "ipython",
    "version": 3
   },
   "file_extension": ".py",
   "mimetype": "text/x-python",
   "name": "python",
   "nbconvert_exporter": "python",
   "pygments_lexer": "ipython3",
   "version": "3.8.2"
  }
 },
 "nbformat": 4,
 "nbformat_minor": 4
}
