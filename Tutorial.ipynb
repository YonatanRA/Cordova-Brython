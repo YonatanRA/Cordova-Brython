{
 "cells": [
  {
   "cell_type": "markdown",
   "metadata": {},
   "source": [
    "# Apache Cordova y Brython \n",
    "\n",
    "Creando aplicaciones hibridas con python."
   ]
  },
  {
   "cell_type": "markdown",
   "metadata": {},
   "source": [
    "## Instalacion entorno de desarrollo"
   ]
  },
  {
   "cell_type": "markdown",
   "metadata": {},
   "source": [
    "**1 - Instalar Java Development Kit 8 (JDK8)**"
   ]
  },
  {
   "cell_type": "raw",
   "metadata": {},
   "source": [
    "sudo add-apt-repository ppa:openjdk-r/ppa\n",
    "sudo apt update\n",
    "sudo apt install openjdk-8-jdk"
   ]
  },
  {
   "cell_type": "markdown",
   "metadata": {},
   "source": [
    "Abre el archivo ~/.bashrc..."
   ]
  },
  {
   "cell_type": "raw",
   "metadata": {},
   "source": [
    "sudo gedit .bashrc"
   ]
  },
  {
   "cell_type": "markdown",
   "metadata": {},
   "source": [
    "...y añade al final del codigo lo siguiente:"
   ]
  },
  {
   "cell_type": "raw",
   "metadata": {},
   "source": [
    "export JAVA_HOME=/usr/lib/jvm/java-8-openjdk-amd64\n",
    "export PATH=$PATH:$JAVA_HOME/bin"
   ]
  },
  {
   "cell_type": "markdown",
   "metadata": {},
   "source": [
    "Guarda los cambios en gedit y ejecuta lo siguiente en terminal para aplicar los cambios:"
   ]
  },
  {
   "cell_type": "raw",
   "metadata": {},
   "source": [
    "source ~/.bashrc"
   ]
  },
  {
   "cell_type": "code",
   "execution_count": null,
   "metadata": {},
   "outputs": [],
   "source": [
    "Si usas zsh, para aplicar los cambios es:"
   ]
  },
  {
   "cell_type": "code",
   "execution_count": null,
   "metadata": {},
   "outputs": [],
   "source": []
  }
 ],
 "metadata": {
  "kernelspec": {
   "display_name": "Python 3",
   "language": "python",
   "name": "python3"
  },
  "language_info": {
   "codemirror_mode": {
    "name": "ipython",
    "version": 3
   },
   "file_extension": ".py",
   "mimetype": "text/x-python",
   "name": "python",
   "nbconvert_exporter": "python",
   "pygments_lexer": "ipython3",
   "version": "3.8.2"
  }
 },
 "nbformat": 4,
 "nbformat_minor": 4
}
