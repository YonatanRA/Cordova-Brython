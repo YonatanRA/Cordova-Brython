{
 "cells": [
  {
   "cell_type": "markdown",
   "metadata": {},
   "source": [
    "# Apache Cordova y Brython \n",
    "\n",
    "Creando aplicaciones hibridas con python.\n",
    "\n",
    "Gracias a https://tecnobillo.com/sections/python-en-android/Cordova-Brython/Cordova-Brython.html"
   ]
  },
  {
   "cell_type": "markdown",
   "metadata": {},
   "source": [
    "## Instalacion entorno de desarrollo"
   ]
  },
  {
   "cell_type": "markdown",
   "metadata": {},
   "source": [
    "**1 - Instalar Java Development Kit 8 (JDK8)**"
   ]
  },
  {
   "cell_type": "raw",
   "metadata": {},
   "source": [
    "sudo add-apt-repository ppa:openjdk-r/ppa\n",
    "sudo apt update\n",
    "sudo apt install openjdk-8-jdk"
   ]
  },
  {
   "cell_type": "markdown",
   "metadata": {},
   "source": [
    "Abre el archivo ~/.bashrc..."
   ]
  },
  {
   "cell_type": "raw",
   "metadata": {},
   "source": [
    "sudo gedit .bashrc"
   ]
  },
  {
   "cell_type": "markdown",
   "metadata": {},
   "source": [
    "...y añade al final del codigo lo siguiente:"
   ]
  },
  {
   "cell_type": "raw",
   "metadata": {},
   "source": [
    "export JAVA_HOME=/usr/lib/jvm/java-8-openjdk-amd64\n",
    "export PATH=$PATH:$JAVA_HOME/bin"
   ]
  },
  {
   "cell_type": "markdown",
   "metadata": {},
   "source": [
    "Guarda los cambios en gedit y ejecuta lo siguiente en terminal para aplicar los cambios:"
   ]
  },
  {
   "cell_type": "raw",
   "metadata": {},
   "source": [
    "source ~/.bashrc"
   ]
  },
  {
   "cell_type": "markdown",
   "metadata": {},
   "source": [
    "Si usas zsh, se usan los comandos:"
   ]
  },
  {
   "cell_type": "raw",
   "metadata": {},
   "source": [
    "sudo gedit .zshrc\n",
    "\n",
    "source ~/.zshrc"
   ]
  },
  {
   "cell_type": "markdown",
   "metadata": {},
   "source": [
    "**2 - Instalar Android Studio, Gradle y el SDK Platform 28**"
   ]
  },
  {
   "cell_type": "markdown",
   "metadata": {},
   "source": [
    "***Android Studio***"
   ]
  },
  {
   "cell_type": "raw",
   "metadata": {},
   "source": [
    "sudo apt install snapd\n",
    "sudo snap install android-studio --classic"
   ]
  },
  {
   "cell_type": "markdown",
   "metadata": {},
   "source": [
    "Abre el archivo ~/.bashrc..."
   ]
  },
  {
   "cell_type": "raw",
   "metadata": {},
   "source": [
    "sudo gedit .bashrc"
   ]
  },
  {
   "cell_type": "markdown",
   "metadata": {},
   "source": [
    "...y añade al final del codigo lo siguiente:"
   ]
  },
  {
   "cell_type": "raw",
   "metadata": {},
   "source": [
    "export ANDROID_HOME=$HOME/Android/Sdk\n",
    "export ANDROID_SDK_ROOT=$HOME/Android/Sdk\n",
    "export PATH=$PATH:$ANDROID_HOME/tools\n",
    "export PATH=$PATH:$ANDROID_HOME/platform-tools"
   ]
  },
  {
   "cell_type": "markdown",
   "metadata": {},
   "source": [
    "Guarda los cambios en gedit y ejecuta lo siguiente en terminal para aplicar los cambios:"
   ]
  },
  {
   "cell_type": "raw",
   "metadata": {},
   "source": [
    "source ~/.bashrc"
   ]
  },
  {
   "cell_type": "markdown",
   "metadata": {},
   "source": [
    "***Gradle***"
   ]
  },
  {
   "cell_type": "raw",
   "metadata": {},
   "source": [
    "sudo apt install gradle"
   ]
  },
  {
   "cell_type": "markdown",
   "metadata": {},
   "source": [
    "***SDK Platform 28***"
   ]
  },
  {
   "cell_type": "markdown",
   "metadata": {},
   "source": [
    "Abre Android Studio ejecutando `android-studio`, ve a configuración (tools) y abre el SDK Manager. Instala el SDK Platform 28."
   ]
  },
  {
   "cell_type": "markdown",
   "metadata": {},
   "source": [
    "**3 - Instalar NodeJS y npm**"
   ]
  },
  {
   "cell_type": "markdown",
   "metadata": {},
   "source": [
    "***NodeJS***"
   ]
  },
  {
   "cell_type": "raw",
   "metadata": {},
   "source": [
    "sudo apt install python-software-properties\n",
    "sudo apt install curl\n",
    "curl -sL https://deb.nodesource.com/setup_12.x | sudo -E bash -\n",
    "sudo apt install nodejs"
   ]
  },
  {
   "cell_type": "markdown",
   "metadata": {},
   "source": [
    "**npm**"
   ]
  },
  {
   "cell_type": "raw",
   "metadata": {},
   "source": [
    "sudo apt install npm"
   ]
  },
  {
   "cell_type": "markdown",
   "metadata": {},
   "source": [
    "**4 - Instalar Cordova**"
   ]
  },
  {
   "cell_type": "raw",
   "metadata": {},
   "source": [
    "sudo npm install -g cordova\n",
    "sudo chown -R $USER:$(id -gn $USER) $HOME/.config"
   ]
  },
  {
   "cell_type": "markdown",
   "metadata": {},
   "source": [
    "**5 - Instalar Brython**"
   ]
  },
  {
   "cell_type": "raw",
   "metadata": {},
   "source": [
    "python3 -m pip install brython"
   ]
  },
  {
   "cell_type": "markdown",
   "metadata": {},
   "source": [
    "## Crear una aplicacion"
   ]
  },
  {
   "cell_type": "markdown",
   "metadata": {},
   "source": [
    "Lo primero es crear un proyecto Cordova, ejecutando lo siguiente en el directorio elegido:"
   ]
  },
  {
   "cell_type": "raw",
   "metadata": {},
   "source": [
    "cordova create miapp"
   ]
  },
  {
   "cell_type": "markdown",
   "metadata": {},
   "source": [
    "Entra al directorio del proyecto \"miapp\" mediante `cd miapp` para poder ejecutar el siguiente comando:"
   ]
  },
  {
   "cell_type": "raw",
   "metadata": {},
   "source": [
    "cordova platform add android"
   ]
  },
  {
   "cell_type": "markdown",
   "metadata": {},
   "source": [
    "Se ha añadido la plataforma Android al proyecto.\n",
    "\n",
    "Dentro del proyecto, el directorio www es en el que se encuentran los archivos HTML, CSS y JavaScript (o Python) para la aplicación. Primero se eliminan los archivos .html, .css y .js que se crearon por defecto:"
   ]
  },
  {
   "cell_type": "raw",
   "metadata": {},
   "source": [
    "cd www\n",
    "\n",
    "rm index.html css/index.css js/index.js"
   ]
  },
  {
   "cell_type": "markdown",
   "metadata": {},
   "source": [
    "En el directorio vacío js se instala Brython:"
   ]
  },
  {
   "cell_type": "raw",
   "metadata": {},
   "source": [
    "cd js\n",
    "\n",
    "python3 -m brython --install\n",
    "\n",
    "rm *.html *.txt"
   ]
  },
  {
   "cell_type": "markdown",
   "metadata": {},
   "source": [
    "En el directorio www se vuelve a crear un archivo index.html con el siguiente codigo:"
   ]
  },
  {
   "cell_type": "raw",
   "metadata": {},
   "source": [
    "<!DOCTYPE html>\n",
    "\n",
    "<html>\n",
    "\n",
    "<head>\n",
    "\n",
    "<meta http-equiv=\"Content-Security-Policy\" content=\"default-src 'self' 'unsafe-inline' 'unsafe-eval'\">\n",
    "\n",
    "<meta name=\"format-detection\" content=\"telephone=no\">\n",
    "<meta name=\"msapplication-tap-highlight\" content=\"no\">\n",
    "<meta name=\"viewport\" content=\"initial-scale=1, width=device-width, viewport-fit=cover\">\n",
    "\n",
    "<title>Cordova-Brython-App</title>\n",
    "\n",
    "<script src=\"js/brython.js\"></script>\n",
    "<script src=\"js/brython_stdlib.js\"></script>\n",
    "\n",
    "<script type=\"text/javascript\">\n",
    "\n",
    "function startBrython(){\n",
    "    document.addEventListener('deviceready', brython, false);\n",
    "}\n",
    "\n",
    "</script>\n",
    "\n",
    "</head>\n",
    "\n",
    "<body onload='startBrython();'>\n",
    "\n",
    "<script type=\"text/javascript\" src=\"cordova.js\"></script>\n",
    "\n",
    "<script type=\"text/python3\">\n",
    "\n",
    "from browser import document, alert\n",
    "from browser.html import *\n",
    "\n",
    "document <= H1('Brython Ready! :)')\n",
    "alert('Brython Ready!')\n",
    "\n",
    "</script>\n",
    "\n",
    "</body>\n",
    "\n",
    "</html>"
   ]
  },
  {
   "cell_type": "markdown",
   "metadata": {},
   "source": [
    "**Explicacion html**"
   ]
  },
  {
   "cell_type": "raw",
   "metadata": {},
   "source": [
    "Etiqueta meta http-equiv=\"Content-Security-Policy\"\n",
    "\n",
    "<meta http-equiv=\"Content-Security-Policy\" content=\"default-src 'self' 'unsafe-inline' 'unsafe-eval'\">\n",
    "\n",
    "Define la política de seguridad de contenido en su atributo content. Puedes obtener mas información cordova-plugin-whitelist.\n",
    "    'self' - La propia aplicación. Sólo permitimos cargar recursos locales (css, imágenes, scripts, etc). Si quieres cargar recursos de un servidor web debes declararlo.\n",
    "    'unsafe-inline' - Habilita la ejecución de JavaScript en línea.\n",
    "    'unsafe-eval' - Habilita la función JS eval(), esencial para ejecutar Brython."
   ]
  },
  {
   "cell_type": "raw",
   "metadata": {},
   "source": [
    "Enlazamos Brython\n",
    "\n",
    "<script src=\"js/brython.js\"></script>\n",
    "<script src=\"js/brython_stdlib.js\"></script>\n",
    "\n",
    "\n",
    "Enlazamos el interprete (brython.js) y la librería estándar de Brython (brython_stdlib.js) de la manera habitual.\n",
    "\n",
    "Ejecutamos brython()\n",
    "\n",
    "No podemos ejecutar la función brython en respuesta al evento onload de la etiqueta body, como habría sido habitual creando una página web con Brython."
   ]
  },
  {
   "cell_type": "raw",
   "metadata": {},
   "source": [
    "En Cordova, todo script debe ejecutarse después de que se dispare el evento deviceready, de modo que dentro de la etiqueta head creamos un script en el que definimos la función startBrython:\n",
    "\n",
    "function startBrython(){\n",
    "   document.addEventListener('deviceready', brython, false);\n",
    "}\n",
    "\n",
    "Al dispararse el evento deviceready se ejecutará la función brython. Ahora solo falta que la función startBrython se ejecute una vez se haya cargado body:\n",
    "\n",
    "<body onload='startBrython();'>\n",
    "\n",
    "Enlazamos cordova.js\n",
    "\n",
    "<script type=\"text/javascript\" src=\"cordova.js\"></script>\n",
    "\n",
    "Aunque cordova.js no exista en el direcorio www no te preocupes, ya que al compilar la aplicación se incluirá automáticamente en el APK.\n"
   ]
  },
  {
   "cell_type": "raw",
   "metadata": {},
   "source": [
    "Nuestro Script Brython\n",
    "\n",
    "from browser import document, alert\n",
    "from browser.html import *\n",
    "\n",
    "document <= H1('Brython Ready! :)')\n",
    "alert('Brython Ready!')\n"
   ]
  },
  {
   "cell_type": "raw",
   "metadata": {},
   "source": [
    "Si quieres desarrollar tu aplicación mediante un script .py independiente (en vez de escribir código Python en index.html) no es posible enlazarlo en el documento de la manera habitual.\n",
    "\n",
    "Tampoco es posible cargar un archivo .py mediante la sentencia import, y no es posible hacerlo mediante la función open para luego utilizar run_script.\n",
    "\n",
    "Sin embargo, puedes cargar un script .py externo mediante una petición XMLHttpRequest para ejecutarlo con run_script:\n",
    "\n",
    "from browser import window, run_script\n",
    "\n",
    "def load_script(req):\n",
    "   src = req.responseText\n",
    "   run_script(src)\n",
    "\n",
    "SCRIPT_PATH = 'app.py' # Desarrolla la app en www/app.py\n",
    "\n",
    "request = window.XMLHttpRequest.new()\n",
    "request.onload = lambda e:load_script(request)\n",
    "request.open('GET', SCRIPT_PATH, True)\n",
    "request.send()\n",
    "\n",
    "Puedes simplificar este script utilizando el módulo ajax de brython_stdlib.js:\n",
    "\n",
    "from browser import ajax, run_script\n",
    "\n",
    "ajax.get('app.py', oncomplete=lambda req:run_script(req.text))\n",
    "\n",
    "Ahora simplemente debes crear un archivo app.py en el directorio www para que sea cargado y ejecutado por index.html.\n"
   ]
  },
  {
   "cell_type": "markdown",
   "metadata": {},
   "source": [
    "## Importar modulos"
   ]
  },
  {
   "cell_type": "markdown",
   "metadata": {},
   "source": [
    "Con el método anterior se ha conseguido ejecutar código fuente mediante la función run_script (también se podria haber utilizado la función exec), pero no se ha importado el archivo app.py como un módulo, sino que se ha ejecutado como un script independiente.\n",
    "\n",
    "Aunque la sentencia import no funciona se puede utilizar el módulo types para crear e importar módulos.\n",
    "\n",
    "A continuación se define la clase ModuLoad que se puede utilizar para importar cualquier script en el directorio www o en sus subdirectorios:"
   ]
  },
  {
   "cell_type": "raw",
   "metadata": {},
   "source": [
    "import types\n",
    "\n",
    "class ModuLoad:\n",
    "\n",
    "    def __init__(self, name, location=''):\n",
    "\n",
    "        if location:\n",
    "            location += '/'\n",
    "\n",
    "        self.module = types.ModuleType(name)\n",
    "        ajax.get(f'{location}{name}.py', blocking=True, oncomplete=self.__load)\n",
    "        exec(self.source, self.module.__dict__)\n",
    "\n",
    "    def __load(self, req):\n",
    "        self.source = req.text\n",
    "\n",
    "    def _import(self):\n",
    "        return self.module\n",
    "\n",
    "\n",
    "# Importar www/app.py\n",
    "app = ModuLoad('app')._import()\n",
    "\n",
    "# Importar www/mismodulos/modulo1.py\n",
    "modulo1 = ModuLoad('modulo1', location='mismodulos')._import()\n"
   ]
  },
  {
   "cell_type": "markdown",
   "metadata": {},
   "source": [
    "No es necesario definir la clase ModuLoad en todos los scripts en los que quieras importar otros módulos. Se puede definir la clase en el archivo index.html y guardarla como atributo del objeto window"
   ]
  },
  {
   "cell_type": "raw",
   "metadata": {},
   "source": [
    "<!-- www/index.html -->\n",
    "\n",
    "<script type='text/python3'>\n",
    "\n",
    "import types\n",
    "from browser import window\n",
    "\n",
    "class ModuLoad:\n",
    "\n",
    "    def __init__(self, name, location=''):\n",
    "\n",
    "        if location:\n",
    "            location += '/'\n",
    "\n",
    "        self.module = types.ModuleType(name)\n",
    "        ajax.get(f'{location}{name}.py', blocking=True, oncomplete=self.__load)\n",
    "        exec(self.source, self.module.__dict__)\n",
    "\n",
    "    def __load(self, req):\n",
    "        self.source = req.text\n",
    "\n",
    "    def _import(self):\n",
    "        return self.module\n",
    "\n",
    "\n",
    "# Exponemos la clase ModuLoad\n",
    "window.ModuLoad = ModuLoad\n",
    "\n",
    "# Importamos www/app.py\n",
    "app = ModuLoad('app')._import()\n",
    "\n",
    "</script>\n"
   ]
  },
  {
   "cell_type": "markdown",
   "metadata": {},
   "source": [
    "Ahora se puede utilizar la clase ModuLoad en todos tus scripts para importar módulos desde módulos."
   ]
  },
  {
   "cell_type": "raw",
   "metadata": {},
   "source": [
    "# www/app.py\n",
    "\n",
    "from browser import window\n",
    "ModuLoad = window.ModuLoad\n",
    "\n",
    "# Importamos www/mismodulos/modulo1.py desde www/app.py\n",
    "modulo1 = ModuLoad('modulo1', location='mismodulos')._import()\n"
   ]
  },
  {
   "cell_type": "markdown",
   "metadata": {},
   "source": [
    "## Compilar la aplicacion - APK"
   ]
  },
  {
   "cell_type": "markdown",
   "metadata": {},
   "source": [
    "Ejecuta:"
   ]
  },
  {
   "cell_type": "raw",
   "metadata": {},
   "source": [
    "cordova prepare android\n",
    "cordova compile android"
   ]
  },
  {
   "cell_type": "markdown",
   "metadata": {},
   "source": [
    "o simplificado:"
   ]
  },
  {
   "cell_type": "raw",
   "metadata": {},
   "source": [
    "cordova build android"
   ]
  },
  {
   "cell_type": "markdown",
   "metadata": {},
   "source": [
    "El APK se encuentra en el directorio miapp/platforms/android/app/build/outputs/apk/debug y se llama app-debug.apk\n",
    "\n",
    "\n",
    "Una aplicación compilada en modo debug tiene el indicador de depuración habilitado, es decir, puede depurarse. Además, se ha compilado con la clave de firma de depuración predeterminada, de modo que no puede ser publicada en Google Play Store.\n",
    "\n",
    "\n"
   ]
  },
  {
   "cell_type": "markdown",
   "metadata": {},
   "source": [
    "## Compilación de Lanzamiento: app-release.apk"
   ]
  },
  {
   "cell_type": "markdown",
   "metadata": {},
   "source": [
    "Para realizar una compilación de lanzamiento (release) necesitas:\n",
    "\n",
    "+ Un almacén de claves: archivo con extensión .keystore que puede estar en cualquier directorio del sistema de archivos.\n",
    "\n",
    "+ Un archivo de configuración llamado build.json en el directorio raíz del proyecto cordova."
   ]
  },
  {
   "cell_type": "markdown",
   "metadata": {},
   "source": [
    "**1 - Crear el almacén de claves (keystore)**\n",
    "\n",
    "Para crear el keystore de tu aplicación tienes que utilizar la utilidad keytool: \n",
    "\n",
    "Abre un terminal en el directorio ráiz de tu proyecto cordova miapp y presta atención al siguiente comando:"
   ]
  },
  {
   "cell_type": "raw",
   "metadata": {},
   "source": [
    "echo y | keytool -genkeypair -dname \"cn=José María, ou=tecnobillo1, o=tecnobillo, c=ES\" -alias miapp -keypass clave -keystore miapp.keystore -keyalg RSA -keysize 2048 -storepass claveAlmacen -validity 20000"
   ]
  },
  {
   "cell_type": "markdown",
   "metadata": {},
   "source": [
    "+ -dname - Identificador único para la aplicación en el .keystore:\n",
    "   + cn - Nombre completo de la persona u organización que genera el .keystore. \n",
    "   + ou - Unidad organizativa que crea el proyecto, es una subdivisión de la organización. \n",
    "   + o - Organización propietaria de todo el proyecto.\n",
    "   + c - Código corto del país.\n",
    "\n",
    "+ -alias - Esta indicado el mismo nombre que el directorio de la aplicación.\n",
    "\n",
    "+ -keypass - Es la clave secreta que solamente deberíael desarrollador. \n",
    "\n",
    "+ -keystore - Almacén de claves, archivo miapp.keystore.\n",
    "\n",
    "+ -storepass - Clave del .keystore. \n",
    "\n",
    "+ -validity - Número de días de validez del keystore. "
   ]
  },
  {
   "cell_type": "markdown",
   "metadata": {},
   "source": [
    "**2 - Crear el archivo de configuración (build.json)**"
   ]
  },
  {
   "cell_type": "markdown",
   "metadata": {},
   "source": [
    "El archivo de configuración debe contener información correcta en relación al keystore creado previamente. Un ejemplo acorde con miapp.keystore es el siguiente:"
   ]
  },
  {
   "cell_type": "raw",
   "metadata": {},
   "source": [
    "{\n",
    "\n",
    "        \"android\": {\n",
    "                \"release\": {\n",
    "                        \"keystore\": \"miapp.keystore\",\n",
    "                        \"storePassword\": \"claveLlave\",\n",
    "                        \"alias\": \"miapp\",\n",
    "                        \"password\": \"claveAlmacen\",\n",
    "                        \"keystoreType\": \"\"\n",
    "                }\n",
    "        }\n",
    "\n",
    "\n",
    "}\n"
   ]
  },
  {
   "cell_type": "markdown",
   "metadata": {},
   "source": [
    "Se ha indicado miapp.keystore como path del almacén de claves porque se ha creado este archivo en el directorio raíz del proyecto. Si se ha creado en otro directorio se debe indicar el path absoluto del keystore.\n",
    "\n",
    "El archivo build.json también puede definir la configuración relativa a la compilación debug. Por ejemplo build.json podría lucir así:"
   ]
  },
  {
   "cell_type": "raw",
   "metadata": {},
   "source": [
    "{\n",
    "\n",
    "    \"android\": {\n",
    "        \"release\": {\n",
    "            \"keystore\": \"miapp.keystore\",\n",
    "            \"storePassword\": \"claveLlave\",\n",
    "            \"alias\": \"miapp\",\n",
    "            \"password\": \"claveAlmacen\",\n",
    "            \"keystoreType\": \"\"\n",
    "        },\n",
    "        \"debug\": {\n",
    "            \"keystore\": \"miapp.keystore\",\n",
    "            \"storePassword\": \"claveLlave\",\n",
    "            \"alias\": \"miapp\",\n",
    "            \"password\": \"claveAlmacen\",\n",
    "            \"keystoreType\": \"\"\n",
    "        }\n",
    "    }\n",
    "\n",
    "\n",
    "}"
   ]
  },
  {
   "cell_type": "markdown",
   "metadata": {},
   "source": [
    "**3 - Compilar app-release.apk**"
   ]
  },
  {
   "cell_type": "raw",
   "metadata": {},
   "source": [
    "cordova prepare android\n",
    "cordova compile android -release"
   ]
  },
  {
   "cell_type": "markdown",
   "metadata": {},
   "source": [
    "o..."
   ]
  },
  {
   "cell_type": "raw",
   "metadata": {},
   "source": [
    "cordova build android -release"
   ]
  },
  {
   "cell_type": "markdown",
   "metadata": {},
   "source": [
    "## Debugging en Brython"
   ]
  },
  {
   "cell_type": "code",
   "execution_count": null,
   "metadata": {},
   "outputs": [],
   "source": []
  }
 ],
 "metadata": {
  "kernelspec": {
   "display_name": "Python 3",
   "language": "python",
   "name": "python3"
  },
  "language_info": {
   "codemirror_mode": {
    "name": "ipython",
    "version": 3
   },
   "file_extension": ".py",
   "mimetype": "text/x-python",
   "name": "python",
   "nbconvert_exporter": "python",
   "pygments_lexer": "ipython3",
   "version": "3.8.2"
  }
 },
 "nbformat": 4,
 "nbformat_minor": 4
}
