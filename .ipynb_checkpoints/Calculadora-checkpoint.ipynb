{
 "cells": [
  {
   "cell_type": "markdown",
   "metadata": {},
   "source": [
    "# Calculadora APK"
   ]
  },
  {
   "cell_type": "markdown",
   "metadata": {},
   "source": [
    "Primero se crea el proyecto:"
   ]
  },
  {
   "cell_type": "raw",
   "metadata": {},
   "source": [
    "cordova create calculadora site.calculadora Calculadora\n",
    "cd calculadora\n",
    "cordova platform add android\n",
    "cd www\n",
    "rm index.html css/index.css js/index.js\n",
    "rm -r img\n",
    "cd js\n",
    "python3 -m brython --install\n",
    "rm *.txt *.html"
   ]
  },
  {
   "cell_type": "markdown",
   "metadata": {},
   "source": [
    "## CONFIG.XML\n",
    "\n",
    "\n",
    "**Archivo calculadora/config.xml**\n",
    "\n",
    "Lo primero que debemos hacer es editar el archivo config.xml para especificar el nombre de la aplicación, icono, etc..."
   ]
  },
  {
   "cell_type": "raw",
   "metadata": {},
   "source": [
    "<?xml version='1.0' encoding='utf-8'?>\n",
    "<widget id=\"site.calculadora\" version=\"1.0.0\" xmlns=\"http://www.w3.org/ns/widgets\" xmlns:cdv=\"http://cordova.apache.org/ns/1.0\">\n",
    "    <name>Calculadora</name>\n",
    "    <description>\n",
    "        Calculadora Sencilla.\n",
    "    </description>\n",
    "    <author email=\"mail@gmail.com\" href=\"https://mysite.site\">\n",
    "        José María Sánchez Ruiz (Tecnobillo)\n",
    "    </author>\n",
    "    <content src=\"index.html\" />\n",
    "    <icon src=\"calculadora.png\" />\n",
    "</widget>"
   ]
  },
  {
   "cell_type": "markdown",
   "metadata": {},
   "source": [
    "## INDEX.HTML\n",
    "\n",
    "\n",
    "**Archivo calculadora/www/index.html**"
   ]
  },
  {
   "cell_type": "raw",
   "metadata": {},
   "source": [
    "<!DOCTYPE html>\n",
    "\n",
    "<html>\n",
    "\n",
    "<head>\n",
    "\n",
    "<meta http-equiv=\"Content-Security-Policy\" content=\"default-src 'self' 'unsafe-inline' 'unsafe-eval'\">\n",
    "<meta name=\"format-detection\" content=\"telephone=no\">\n",
    "<meta name=\"msapplication-tap-highlight\" content=\"no\">\n",
    "<meta name=\"viewport\" content=\"initial-scale=1, width=device-width, viewport-fit=cover\">\n",
    "\n",
    "<meta charset='utf-8'/>\n",
    "\n",
    "<title>Calculadora</title>\n",
    "\n",
    "<script src=\"js/brython.js\"></script>\n",
    "<script src=\"js/brython_stdlib.js\"></script>\n",
    "<link rel='stylesheet' href='css/index.css'/>\n",
    "\n",
    "<script type=\"text/javascript\">\n",
    "\n",
    "function startBrython(){\n",
    "    document.addEventListener('deviceready', brython, false);\n",
    "}\n",
    "\n",
    "</script>\n",
    "\n",
    "</head>\n",
    "\n",
    "<body onload='startBrython();'>\n",
    "\n",
    "\n",
    "<!-- AQUÍ VAMOS A DEFINIR EL ESQUELETO DE LA APLICACIÓN -->\n",
    "<div id='app'>\n",
    "\n",
    "    <div id='resultado'>0</div>\n",
    "\n",
    "    <div id='clear-buttons'>\n",
    "        <button id='del_all' class='clear_btn'>DEL</button>\n",
    "        <button id='del_one' class='clear_btn'><pre><<</pre></button>\n",
    "    </div>\n",
    "\n",
    "    <div id='buttons'>\n",
    "\n",
    "        <div>\n",
    "            <button>7</button>\n",
    "            <button>8</button>\n",
    "            <button>9</button>\n",
    "            <button>/</button>\n",
    "        </div>\n",
    "        <div>\n",
    "            <button>4</button>\n",
    "            <button>5</button>\n",
    "            <button>6</button>\n",
    "            <button>x</button>\n",
    "        </div>\n",
    "        <div>\n",
    "            <button>1</button>\n",
    "            <button>2</button>\n",
    "            <button>3</button>\n",
    "            <button>-</button>\n",
    "        </div>\n",
    "        <div>\n",
    "            <button>0</button>\n",
    "            <button>,</button>\n",
    "            <button id='calcular'>=</button>\n",
    "            <button>+</button>\n",
    "        </div>\n",
    "\n",
    "    </div>\n",
    "\n",
    "</div>\n",
    "\n",
    "\n",
    "<script type=\"text/javascript\" src=\"cordova.js\"></script>\n",
    "\n",
    "<script type=\"text/python3\">\n",
    "\n",
    "from browser import ajax, run_script\n",
    "\n",
    "ajax.get('app.py', oncomplete=lambda req: run_script(req.text))\n",
    "\n",
    "</script>\n",
    "\n",
    "</body>\n",
    "\n",
    "</html>\n"
   ]
  },
  {
   "cell_type": "markdown",
   "metadata": {},
   "source": [
    "**Puntos importantes:**\n",
    "    \n",
    "Hemos enlazado Brython en el documento:"
   ]
  },
  {
   "cell_type": "raw",
   "metadata": {},
   "source": [
    "<script src=\"js/brython.js\"></script>\n",
    "<script src=\"js/brython_stdlib.js\"></script>"
   ]
  },
  {
   "cell_type": "markdown",
   "metadata": {},
   "source": [
    "Hemos enlazado una hoja de estilos CSS:"
   ]
  },
  {
   "cell_type": "raw",
   "metadata": {},
   "source": [
    "<link rel='stylesheet' href='css/index.css'/>"
   ]
  },
  {
   "cell_type": "markdown",
   "metadata": {},
   "source": [
    "Hemos enlazado el documento con un script Python:"
   ]
  },
  {
   "cell_type": "raw",
   "metadata": {},
   "source": [
    "<script type=\"text/python3\">\n",
    "\n",
    "from browser import ajax, run_script\n",
    "\n",
    "ajax.get('app.py', oncomplete=lambda req: run_script(req.text))\n",
    "\n",
    "</script>"
   ]
  },
  {
   "cell_type": "markdown",
   "metadata": {},
   "source": [
    "Todo el esqueleto de la aplicación está definido dentro de un div con id=\"app\".\n",
    "\n",
    "Se ha creado un div con id=\"resultado\" cuyo texto es 0, Este div será la etiqueta donde mostrar el resultado de los cálculos:"
   ]
  },
  {
   "cell_type": "raw",
   "metadata": {},
   "source": [
    "<div id='resultado'>0</div>"
   ]
  },
  {
   "cell_type": "markdown",
   "metadata": {},
   "source": [
    "Se ha creado un div con id=\"clear-buttons\" que contiene dos botones, Estos botones son [ DEL ] y [ << ], que servirán para eliminar el resultado del cálculo y para eliminar el último carácter del resultado respectivamente. Se ha asignado un id a cada uno para referirse a ellos en el archivo app.py y una clase para darles un estilo común en el archivo index.css:"
   ]
  },
  {
   "cell_type": "raw",
   "metadata": {},
   "source": [
    "<div id='clear-buttons'>\n",
    "     <button id='del_all' class='clear_btn'>DEL</button>\n",
    "     <button id='del_one' class='clear_btn'><pre><<</pre></button>\n",
    "</div>"
   ]
  },
  {
   "cell_type": "markdown",
   "metadata": {},
   "source": [
    "Se ha creado un div con id=\"buttons\" donde se incluyen 4 divs, cada uno de los cuales contiene 4 botones. Estos botones son los números del [ 0 ] al [ 9 ] y los operadores matemáticos básicos:\n",
    "    sumar [ + ], restar [ - ], multiplicar [ x ], dividir [ / ] y calcular [ = ])."
   ]
  },
  {
   "cell_type": "markdown",
   "metadata": {},
   "source": [
    "## INDEX.CSS\n",
    "\n",
    "\n",
    "**Archivo calculadora/www/css/index.css**"
   ]
  },
  {
   "cell_type": "raw",
   "metadata": {},
   "source": [
    "* {\n",
    "    box-sizing:border-box;                /* Hacemos que el ancho y alto de cada elemento se calcule incluyendo el espacio ocupado por las propiedades css border y padding */\n",
    "    margin:0px;                           /* Eliminamos el margen de todos los elementos del documento HTML, ya que la propiedad margin no la controlamos con la propiedad anterior */\n",
    "}\n",
    "\n",
    "body {\n",
    "    width:100vw;                          /* Hacemos que el cuerpo del documento ocupe todo el ancho de la pantalla, pero sin ser mayor que la pantalla (no queremos scroll) */\n",
    "    height:100vh;                         /* Hacemos que el cuerpo del documento ocupe todo el alto de la pantalla, pero sin ser mayor que la pantalla (no queremos scroll) */\n",
    "}\n",
    "\n",
    "\n",
    "#app {\n",
    "    width:100%;                           /* El div principal debe ocupar todo el ancho disponible (como el ancho es 100vw para body, #app ocupará todo el ancho de la pantalla) */\n",
    "    height:100%;                          /* El div principal debe ocupar todo el alto disponible (como el alto el 100vh para body, #app ocupará todo el alto de la pantalla) */\n",
    "    display:flex;                         /* Facilita el diseño de una estructura sin utilizar float o position */\n",
    "    flex-direction:column;                /* Hacemos que los elementos dentro de #app se organicen en una columna */\n",
    "}\n",
    "\n",
    "#resultado {\n",
    "    width:100%;                           /* La etiqueta en la que mostraremos el resultado de un cálculo es un div que debe ocupar todo el ancho disponible */\n",
    "    height:40%;                           /* Hacemos que ocupe el 40% del alto disponible, el resto lo ocuparán los botones */\n",
    "    font-size:4em;                        /* Aumentamos el tamaño del texto del div para que sea adecuado en la pantalla de un dispositivo móvil */\n",
    "    display:flex;                         /* Utilizamos flex para centrar el texto (números) del div mediante las propiedades justify-content y align-items */\n",
    "    justify-content:center;\n",
    "    align-items:center;\n",
    "    overflow:auto;                        /* Para que cuando el número mostrado sea muy grande no descoloque la interfaz (al ocupar un ancho mayor que el de la pantalla) */\n",
    "}\n",
    "\n",
    "button {\n",
    "    outline:none;                         /* Eliminamos los efectos por defecto de todos los botones */\n",
    "    border:1px solid black;               /* Definimos el borde para todos los botones */\n",
    "}\n",
    "\n",
    "#clear-buttons {\n",
    "    width:100%;                           /* Este div, como los demás, debe ocupar todo el ancho disponible */\n",
    "    height:10%;                           /* En este caso queremos que solamente ocupe el 10% del alto disponible */\n",
    "    display:flex;\n",
    "    justify-content:center;\n",
    "    align-items:center;\n",
    "}\n",
    "\n",
    ".clear_btn {\n",
    "    width:50%;                            /* Como en #clear-buttons tenemos 2 botones, queremos que cada uno ocupe la mitad del ancho disponible */\n",
    "    height:100%;                          /* Queremos que cada uno de los .clear_btn ocupe todo el alto disponible (que ocupen toda la altura del div #clear-buttons) */\n",
    "    font-size:1.5em;\n",
    "    background:#6495ED;\n",
    "    color:#FFFAF0;\n",
    "    border-top:1.5px solid black;\n",
    "}\n",
    "\n",
    "#buttons {\n",
    "    width:100%;\n",
    "    height:50%;\n",
    "}\n",
    "\n",
    "#buttons > div {\n",
    "    width:100%;\n",
    "    height:25%;                           /* Como tenemos 4 filas de botones (4 divs) queremos que cada una ocupe el 25% del alto de su contenedor: 4 divs x 25% height = 100% height */\n",
    "    display:flex;\n",
    "}\n",
    "\n",
    "#buttons > div > button {\n",
    "    width:25%;                            /* Como cada fila contiene 4 botones, queremos que cada uno ocupe el 25% del ancho, y entre todos ocupen el 100%: 4 botones x 25% width = 100% width */\n",
    "    font-size:2em;\n",
    "    background:#B0C4DE;\n",
    "}"
   ]
  },
  {
   "cell_type": "markdown",
   "metadata": {},
   "source": [
    "**Puntos CSS:**\n",
    "\n",
    "+ El selector * se refiere a todos los elementos HTML. La propiedad box-sizing:border-box; se utiliza para que las dimensiones de los elementos (ancho y alto) se calculen teniendo en cuenta el padding y el borde de los elementos.\n",
    "\n",
    "+ Como esta propiedad no influye sobre las propiedad margin, a continuación se declara margin:0px;. La intención es que la interfaz ocupe toda la pantalla del dispositivo y que todo elemento sea visible sin tener que hacer scroll horizontal ni vertical.\n",
    "\n",
    "+ Para el selector body se utiliza width:100vw; y height:100vh; para asegurar que el cuerpo del documento ocupa todo el ancho y alto de la pantalla.\n",
    "\n",
    "+ Utilizando las unidades vw y vh sobre body se pueden utilizar las unidades porcentuales (%) para el resto de elementos del documento, por lo que para el div con id=\"app\" (#app) se indica width:100%; y height:100%;.\n",
    "\n",
    "+ Además se indica display:flex; y flex-direction:column; para #app.\n"
   ]
  },
  {
   "cell_type": "markdown",
   "metadata": {},
   "source": [
    "## APP.PY\n",
    "\n",
    "\n",
    "**Archivo calculadora/www/app.py**"
   ]
  },
  {
   "cell_type": "code",
   "execution_count": null,
   "metadata": {},
   "outputs": [],
   "source": []
  },
  {
   "cell_type": "code",
   "execution_count": null,
   "metadata": {},
   "outputs": [],
   "source": []
  },
  {
   "cell_type": "code",
   "execution_count": null,
   "metadata": {},
   "outputs": [],
   "source": []
  },
  {
   "cell_type": "code",
   "execution_count": null,
   "metadata": {},
   "outputs": [],
   "source": []
  },
  {
   "cell_type": "code",
   "execution_count": null,
   "metadata": {},
   "outputs": [],
   "source": []
  }
 ],
 "metadata": {
  "kernelspec": {
   "display_name": "Python 3",
   "language": "python",
   "name": "python3"
  },
  "language_info": {
   "codemirror_mode": {
    "name": "ipython",
    "version": 3
   },
   "file_extension": ".py",
   "mimetype": "text/x-python",
   "name": "python",
   "nbconvert_exporter": "python",
   "pygments_lexer": "ipython3",
   "version": "3.8.2"
  }
 },
 "nbformat": 4,
 "nbformat_minor": 4
}
