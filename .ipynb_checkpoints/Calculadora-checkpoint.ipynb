{
 "cells": [
  {
   "cell_type": "markdown",
   "metadata": {},
   "source": [
    "# Calculadora APK"
   ]
  },
  {
   "cell_type": "markdown",
   "metadata": {},
   "source": [
    "Primero se crea el proyecto:"
   ]
  },
  {
   "cell_type": "raw",
   "metadata": {},
   "source": [
    "cordova create calculadora site.calculadora Calculadora\n",
    "cd calculadora\n",
    "cordova platform add android\n",
    "cd www\n",
    "rm index.html css/index.css js/index.js\n",
    "rm -r img\n",
    "cd js\n",
    "python3 -m brython --install\n",
    "rm *.txt *.html"
   ]
  },
  {
   "cell_type": "markdown",
   "metadata": {},
   "source": [
    "## CONFIG.XML\n",
    "\n",
    "\n",
    "**Archivo calculadora/config.xml**\n",
    "\n",
    "Lo primero que debemos hacer es editar el archivo config.xml para especificar el nombre de la aplicación, icono, etc..."
   ]
  },
  {
   "cell_type": "raw",
   "metadata": {},
   "source": [
    "<?xml version='1.0' encoding='utf-8'?>\n",
    "<widget id=\"site.calculadora\" version=\"1.0.0\" xmlns=\"http://www.w3.org/ns/widgets\" xmlns:cdv=\"http://cordova.apache.org/ns/1.0\">\n",
    "    <name>Calculadora</name>\n",
    "    <description>\n",
    "        Calculadora Sencilla.\n",
    "    </description>\n",
    "    <author email=\"mail@gmail.com\" href=\"https://mysite.site\">\n",
    "        José María Sánchez Ruiz (Tecnobillo)\n",
    "    </author>\n",
    "    <content src=\"index.html\" />\n",
    "    <icon src=\"calculadora.png\" />\n",
    "</widget>"
   ]
  },
  {
   "cell_type": "markdown",
   "metadata": {},
   "source": [
    "## INDEX.HTML\n",
    "\n",
    "\n",
    "**Archivo calculadora/www/index.html**"
   ]
  },
  {
   "cell_type": "raw",
   "metadata": {},
   "source": [
    "<!DOCTYPE html>\n",
    "\n",
    "<html>\n",
    "\n",
    "<head>\n",
    "\n",
    "<meta http-equiv=\"Content-Security-Policy\" content=\"default-src 'self' 'unsafe-inline' 'unsafe-eval'\">\n",
    "<meta name=\"format-detection\" content=\"telephone=no\">\n",
    "<meta name=\"msapplication-tap-highlight\" content=\"no\">\n",
    "<meta name=\"viewport\" content=\"initial-scale=1, width=device-width, viewport-fit=cover\">\n",
    "\n",
    "<meta charset='utf-8'/>\n",
    "\n",
    "<title>Calculadora</title>\n",
    "\n",
    "<script src=\"js/brython.js\"></script>\n",
    "<script src=\"js/brython_stdlib.js\"></script>\n",
    "<link rel='stylesheet' href='css/index.css'/>\n",
    "\n",
    "<script type=\"text/javascript\">\n",
    "\n",
    "function startBrython(){\n",
    "    document.addEventListener('deviceready', brython, false);\n",
    "}\n",
    "\n",
    "</script>\n",
    "\n",
    "</head>\n",
    "\n",
    "<body onload='startBrython();'>\n",
    "\n",
    "\n",
    "<!-- AQUÍ VAMOS A DEFINIR EL ESQUELETO DE LA APLICACIÓN -->\n",
    "<div id='app'>\n",
    "\n",
    "    <div id='resultado'>0</div>\n",
    "\n",
    "    <div id='clear-buttons'>\n",
    "        <button id='del_all' class='clear_btn'>DEL</button>\n",
    "        <button id='del_one' class='clear_btn'><pre><<</pre></button>\n",
    "    </div>\n",
    "\n",
    "    <div id='buttons'>\n",
    "\n",
    "        <div>\n",
    "            <button>7</button>\n",
    "            <button>8</button>\n",
    "            <button>9</button>\n",
    "            <button>/</button>\n",
    "        </div>\n",
    "        <div>\n",
    "            <button>4</button>\n",
    "            <button>5</button>\n",
    "            <button>6</button>\n",
    "            <button>x</button>\n",
    "        </div>\n",
    "        <div>\n",
    "            <button>1</button>\n",
    "            <button>2</button>\n",
    "            <button>3</button>\n",
    "            <button>-</button>\n",
    "        </div>\n",
    "        <div>\n",
    "            <button>0</button>\n",
    "            <button>,</button>\n",
    "            <button id='calcular'>=</button>\n",
    "            <button>+</button>\n",
    "        </div>\n",
    "\n",
    "    </div>\n",
    "\n",
    "</div>\n",
    "\n",
    "\n",
    "<script type=\"text/javascript\" src=\"cordova.js\"></script>\n",
    "\n",
    "<script type=\"text/python3\">\n",
    "\n",
    "from browser import ajax, run_script\n",
    "\n",
    "ajax.get('app.py', oncomplete=lambda req: run_script(req.text))\n",
    "\n",
    "</script>\n",
    "\n",
    "</body>\n",
    "\n",
    "</html>\n"
   ]
  },
  {
   "cell_type": "code",
   "execution_count": null,
   "metadata": {},
   "outputs": [],
   "source": []
  },
  {
   "cell_type": "code",
   "execution_count": null,
   "metadata": {},
   "outputs": [],
   "source": []
  },
  {
   "cell_type": "code",
   "execution_count": null,
   "metadata": {},
   "outputs": [],
   "source": []
  }
 ],
 "metadata": {
  "kernelspec": {
   "display_name": "Python 3",
   "language": "python",
   "name": "python3"
  },
  "language_info": {
   "codemirror_mode": {
    "name": "ipython",
    "version": 3
   },
   "file_extension": ".py",
   "mimetype": "text/x-python",
   "name": "python",
   "nbconvert_exporter": "python",
   "pygments_lexer": "ipython3",
   "version": "3.8.2"
  }
 },
 "nbformat": 4,
 "nbformat_minor": 4
}
