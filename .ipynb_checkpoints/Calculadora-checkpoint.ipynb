{
 "cells": [
  {
   "cell_type": "markdown",
   "metadata": {},
   "source": [
    "# Calculadora APK"
   ]
  },
  {
   "cell_type": "markdown",
   "metadata": {},
   "source": [
    "Primero se crea el proyecto:"
   ]
  },
  {
   "cell_type": "raw",
   "metadata": {},
   "source": [
    "cordova create calculadora site.calculadora Calculadora\n",
    "cd calculadora\n",
    "cordova platform add android\n",
    "cd www\n",
    "rm index.html css/index.css js/index.js\n",
    "rm -r img\n",
    "cd js\n",
    "python3 -m brython --install\n",
    "rm *.txt *.html"
   ]
  },
  {
   "cell_type": "markdown",
   "metadata": {},
   "source": [
    "## CONFIG.XML\n",
    "\n",
    "\n",
    "**Archivo calculadora/config.xml**\n",
    "\n",
    "Lo primero que debemos hacer es editar el archivo config.xml para especificar el nombre de la aplicación, icono, etc..."
   ]
  },
  {
   "cell_type": "raw",
   "metadata": {},
   "source": [
    "<?xml version='1.0' encoding='utf-8'?>\n",
    "<widget id=\"site.calculadora\" version=\"1.0.0\" xmlns=\"http://www.w3.org/ns/widgets\" xmlns:cdv=\"http://cordova.apache.org/ns/1.0\">\n",
    "    <name>Calculadora</name>\n",
    "    <description>\n",
    "        Calculadora Sencilla.\n",
    "    </description>\n",
    "    <author email=\"mail@gmail.com\" href=\"https://mysite.site\">\n",
    "        José María Sánchez Ruiz (Tecnobillo)\n",
    "    </author>\n",
    "    <content src=\"index.html\" />\n",
    "    <icon src=\"calculadora.png\" />\n",
    "</widget>"
   ]
  },
  {
   "cell_type": "code",
   "execution_count": null,
   "metadata": {},
   "outputs": [],
   "source": []
  },
  {
   "cell_type": "code",
   "execution_count": null,
   "metadata": {},
   "outputs": [],
   "source": []
  },
  {
   "cell_type": "code",
   "execution_count": null,
   "metadata": {},
   "outputs": [],
   "source": []
  },
  {
   "cell_type": "code",
   "execution_count": null,
   "metadata": {},
   "outputs": [],
   "source": []
  },
  {
   "cell_type": "code",
   "execution_count": null,
   "metadata": {},
   "outputs": [],
   "source": []
  }
 ],
 "metadata": {
  "kernelspec": {
   "display_name": "Python 3",
   "language": "python",
   "name": "python3"
  },
  "language_info": {
   "codemirror_mode": {
    "name": "ipython",
    "version": 3
   },
   "file_extension": ".py",
   "mimetype": "text/x-python",
   "name": "python",
   "nbconvert_exporter": "python",
   "pygments_lexer": "ipython3",
   "version": "3.8.2"
  }
 },
 "nbformat": 4,
 "nbformat_minor": 4
}
